{
 "cells": [
  {
   "cell_type": "markdown",
   "id": "b2132627",
   "metadata": {},
   "source": [
    "# UNIDAD 4 - PROYECTO: ANÁLISIS DE SENTIMIENTOS Y PREDICCIÓN."
   ]
  },
  {
   "cell_type": "markdown",
   "id": "7ae4a441",
   "metadata": {},
   "source": [
    "## ALUMNO: BRENDA CORTES AGUILAR\n",
    "## NÚMERO DE CONTROL: 20120097\n"
   ]
  },
  {
   "cell_type": "markdown",
   "id": "9336d5c6",
   "metadata": {},
   "source": [
    "## PRESENTACIÓN.\n",
    "\n",
    "El siguiente proyecto consiste en emplear el análisis de sentimientos para tratar de predecir las calificaciones de una serie.\n",
    "\n",
    "El dataset es sobre las calificaciones que recibió la adaptación al \"live-action\" el anime \"OnePiece\".\n",
    "\n",
    "El dataset contiene las reseñas que se recibieron en la plataforma de Netflix, el dataset contiene información como:\n",
    "\n",
    "* Título.\n",
    "* Reseña.\n",
    "* Fecha.\n",
    "* Calificación.\n",
    "\n",
    "## ETAPA 1: ANÁLISIS EXPLORATORIO DE LOS DATOS.\n",
    "\n",
    "### Paso 1. Importe las librerías necesarias (pandas, numpy, seaborn, nltk, etc...)\n"
   ]
  },
  {
   "cell_type": "code",
   "execution_count": 1,
   "id": "624ebc5b",
   "metadata": {},
   "outputs": [],
   "source": [
    "import pandas as pd \n",
    "import seaborn as sns\n",
    "import matplotlib.pyplot as plt\n",
    "\n",
    "\n",
    "import nltk\n",
    "from nltk.corpus import stopwords\n",
    "from nltk.stem import WordNetLemmatizer\n",
    "from nltk.tokenize import word_tokenize\n",
    "\n",
    "nltk.download('punkt', quiet=True)\n",
    "nltk.download('stopwords', quiet=True)\n",
    "nltk.download('wordnet', quiet=True)\n",
    "nltk.download('vader_lexicon', quiet=True)\n",
    "\n",
    "from nltk.sentiment import SentimentIntensityAnalyzer\n",
    "from sklearn.model_selection import train_test_split\n",
    "\n",
    "from sklearn.neighbors import KNeighborsClassifier\n",
    "from sklearn.svm import SVC\n",
    "from sklearn.ensemble import RandomForestClassifier\n",
    "from sklearn.metrics import accuracy_score\n",
    "from sklearn.metrics import mean_squared_error\n",
    "import numpy as np"
   ]
  },
  {
   "cell_type": "markdown",
   "id": "69e49ddd",
   "metadata": {},
   "source": [
    "### Paso 2. Cargue y muestre información del dataset; muestre información estadística de las columnas numéricas."
   ]
  },
  {
   "cell_type": "code",
   "execution_count": 2,
   "id": "6ec74c2d",
   "metadata": {},
   "outputs": [],
   "source": [
    "df = pd.read_csv('reviews.csv')"
   ]
  },
  {
   "cell_type": "code",
   "execution_count": 3,
   "id": "19fcc1bb",
   "metadata": {},
   "outputs": [
    {
     "data": {
      "text/html": [
       "<div>\n",
       "<style scoped>\n",
       "    .dataframe tbody tr th:only-of-type {\n",
       "        vertical-align: middle;\n",
       "    }\n",
       "\n",
       "    .dataframe tbody tr th {\n",
       "        vertical-align: top;\n",
       "    }\n",
       "\n",
       "    .dataframe thead th {\n",
       "        text-align: right;\n",
       "    }\n",
       "</style>\n",
       "<table border=\"1\" class=\"dataframe\">\n",
       "  <thead>\n",
       "    <tr style=\"text-align: right;\">\n",
       "      <th></th>\n",
       "      <th>Title</th>\n",
       "      <th>Review</th>\n",
       "      <th>Date</th>\n",
       "      <th>Rating</th>\n",
       "    </tr>\n",
       "  </thead>\n",
       "  <tbody>\n",
       "    <tr>\n",
       "      <th>0</th>\n",
       "      <td>Never seen the anime and still enjoyed it</td>\n",
       "      <td>I have to admit that I've never watched any of...</td>\n",
       "      <td>4 September 2023</td>\n",
       "      <td>8.0</td>\n",
       "    </tr>\n",
       "    <tr>\n",
       "      <th>1</th>\n",
       "      <td>Not My Kind of Show. But This I Loved.</td>\n",
       "      <td>I'm a 60yo man &amp; old school like the The Marin...</td>\n",
       "      <td>4 September 2023</td>\n",
       "      <td>9.0</td>\n",
       "    </tr>\n",
       "    <tr>\n",
       "      <th>2</th>\n",
       "      <td>I'm Shocked By How Good This Is...</td>\n",
       "      <td>Every live action anime that I've briefly seen...</td>\n",
       "      <td>1 September 2023</td>\n",
       "      <td>9.0</td>\n",
       "    </tr>\n",
       "    <tr>\n",
       "      <th>3</th>\n",
       "      <td>See Netflix?? You CAN do it...</td>\n",
       "      <td>This is bar none one of the best live-action a...</td>\n",
       "      <td>4 September 2023</td>\n",
       "      <td>10.0</td>\n",
       "    </tr>\n",
       "    <tr>\n",
       "      <th>4</th>\n",
       "      <td>WE WANT SEASON 2</td>\n",
       "      <td>Being a one piece fan myself, I was a bit inse...</td>\n",
       "      <td>31 August 2023</td>\n",
       "      <td>10.0</td>\n",
       "    </tr>\n",
       "  </tbody>\n",
       "</table>\n",
       "</div>"
      ],
      "text/plain": [
       "                                       Title  \\\n",
       "0  Never seen the anime and still enjoyed it   \n",
       "1     Not My Kind of Show. But This I Loved.   \n",
       "2         I'm Shocked By How Good This Is...   \n",
       "3             See Netflix?? You CAN do it...   \n",
       "4                           WE WANT SEASON 2   \n",
       "\n",
       "                                              Review              Date  Rating  \n",
       "0  I have to admit that I've never watched any of...  4 September 2023     8.0  \n",
       "1  I'm a 60yo man & old school like the The Marin...  4 September 2023     9.0  \n",
       "2  Every live action anime that I've briefly seen...  1 September 2023     9.0  \n",
       "3  This is bar none one of the best live-action a...  4 September 2023    10.0  \n",
       "4  Being a one piece fan myself, I was a bit inse...    31 August 2023    10.0  "
      ]
     },
     "execution_count": 3,
     "metadata": {},
     "output_type": "execute_result"
    }
   ],
   "source": [
    "df.head()"
   ]
  },
  {
   "cell_type": "code",
   "execution_count": 4,
   "id": "60f8dfe6",
   "metadata": {},
   "outputs": [
    {
     "data": {
      "text/html": [
       "<div>\n",
       "<style scoped>\n",
       "    .dataframe tbody tr th:only-of-type {\n",
       "        vertical-align: middle;\n",
       "    }\n",
       "\n",
       "    .dataframe tbody tr th {\n",
       "        vertical-align: top;\n",
       "    }\n",
       "\n",
       "    .dataframe thead th {\n",
       "        text-align: right;\n",
       "    }\n",
       "</style>\n",
       "<table border=\"1\" class=\"dataframe\">\n",
       "  <thead>\n",
       "    <tr style=\"text-align: right;\">\n",
       "      <th></th>\n",
       "      <th>Title</th>\n",
       "      <th>Review</th>\n",
       "      <th>Date</th>\n",
       "      <th>Rating</th>\n",
       "    </tr>\n",
       "  </thead>\n",
       "  <tbody>\n",
       "    <tr>\n",
       "      <th>873</th>\n",
       "      <td>Most faithful and high quality adaptation sinc...</td>\n",
       "      <td>I haven't written a review in a very long time...</td>\n",
       "      <td>2 September 2023</td>\n",
       "      <td>10.0</td>\n",
       "    </tr>\n",
       "    <tr>\n",
       "      <th>874</th>\n",
       "      <td>Me and my son loving it! The best entertaining...</td>\n",
       "      <td>This is my first IMDb review.\\n\\nI've watched ...</td>\n",
       "      <td>1 September 2023</td>\n",
       "      <td>9.0</td>\n",
       "    </tr>\n",
       "    <tr>\n",
       "      <th>875</th>\n",
       "      <td>A very good adaptation to the famous anime</td>\n",
       "      <td>An absolute gem! This show is a must-watch, an...</td>\n",
       "      <td>3 September 2023</td>\n",
       "      <td>10.0</td>\n",
       "    </tr>\n",
       "    <tr>\n",
       "      <th>876</th>\n",
       "      <td>This wonderful thing...</td>\n",
       "      <td>I recently dived (no pun intended) into the wo...</td>\n",
       "      <td>2 September 2023</td>\n",
       "      <td>10.0</td>\n",
       "    </tr>\n",
       "    <tr>\n",
       "      <th>877</th>\n",
       "      <td>Best adaptation so far</td>\n",
       "      <td>I watched first eposide and I can say they did...</td>\n",
       "      <td>1 September 2023</td>\n",
       "      <td>9.0</td>\n",
       "    </tr>\n",
       "  </tbody>\n",
       "</table>\n",
       "</div>"
      ],
      "text/plain": [
       "                                                 Title  \\\n",
       "873  Most faithful and high quality adaptation sinc...   \n",
       "874  Me and my son loving it! The best entertaining...   \n",
       "875         A very good adaptation to the famous anime   \n",
       "876                            This wonderful thing...   \n",
       "877                             Best adaptation so far   \n",
       "\n",
       "                                                Review              Date  \\\n",
       "873  I haven't written a review in a very long time...  2 September 2023   \n",
       "874  This is my first IMDb review.\\n\\nI've watched ...  1 September 2023   \n",
       "875  An absolute gem! This show is a must-watch, an...  3 September 2023   \n",
       "876  I recently dived (no pun intended) into the wo...  2 September 2023   \n",
       "877  I watched first eposide and I can say they did...  1 September 2023   \n",
       "\n",
       "     Rating  \n",
       "873    10.0  \n",
       "874     9.0  \n",
       "875    10.0  \n",
       "876    10.0  \n",
       "877     9.0  "
      ]
     },
     "execution_count": 4,
     "metadata": {},
     "output_type": "execute_result"
    }
   ],
   "source": [
    "df.tail()"
   ]
  },
  {
   "cell_type": "code",
   "execution_count": 5,
   "id": "b802b9a0",
   "metadata": {},
   "outputs": [
    {
     "name": "stdout",
     "output_type": "stream",
     "text": [
      "<class 'pandas.core.frame.DataFrame'>\n",
      "RangeIndex: 878 entries, 0 to 877\n",
      "Data columns (total 4 columns):\n",
      " #   Column  Non-Null Count  Dtype  \n",
      "---  ------  --------------  -----  \n",
      " 0   Title   878 non-null    object \n",
      " 1   Review  878 non-null    object \n",
      " 2   Date    878 non-null    object \n",
      " 3   Rating  870 non-null    float64\n",
      "dtypes: float64(1), object(3)\n",
      "memory usage: 27.6+ KB\n",
      "None\n"
     ]
    }
   ],
   "source": [
    "print(df.info())"
   ]
  },
  {
   "cell_type": "code",
   "execution_count": 35,
   "id": "a66566d1",
   "metadata": {},
   "outputs": [
    {
     "data": {
      "text/plain": [
       "count    870.000000\n",
       "mean       8.517241\n",
       "std        2.268826\n",
       "min        1.000000\n",
       "25%        8.000000\n",
       "50%        9.000000\n",
       "75%       10.000000\n",
       "max       10.000000\n",
       "Name: Rating, dtype: float64"
      ]
     },
     "execution_count": 35,
     "metadata": {},
     "output_type": "execute_result"
    }
   ],
   "source": [
    "df['Rating'].describe()"
   ]
  },
  {
   "cell_type": "markdown",
   "id": "16fb059b",
   "metadata": {},
   "source": [
    "Podemos observar que el data set contiene 4 columnas, con 878 registros, donde únicamente podemos observar una única columna de tipo numérica llamada 'Rating'."
   ]
  },
  {
   "cell_type": "markdown",
   "id": "97cb40cf",
   "metadata": {},
   "source": [
    "### Paso 3. Identifique los datos nulos: muestre las filas que contienen datos nulos (no se deben tratar aún)."
   ]
  },
  {
   "cell_type": "code",
   "execution_count": 6,
   "id": "5671bdc7",
   "metadata": {},
   "outputs": [
    {
     "name": "stdout",
     "output_type": "stream",
     "text": [
      "Rating    8\n",
      "Title     0\n",
      "Review    0\n",
      "Date      0\n",
      "dtype: int64\n"
     ]
    }
   ],
   "source": [
    "nulos = df.isnull().sum().sort_values(ascending=False)\n",
    "print(nulos)"
   ]
  },
  {
   "cell_type": "markdown",
   "id": "4f93480a",
   "metadata": {},
   "source": [
    "Podemos observar que \"Rating\" tiene 8 valores nulos. Las otras columnas, \"Title\", \"Review\" y \"Date\", no tienen valores nulos.\n",
    "Por la cantidad de datos, estos datos se podrían eliminar, en caso de que sea necesario aplicarles algún tratamiento. "
   ]
  },
  {
   "cell_type": "markdown",
   "id": "fb5e6bcf",
   "metadata": {},
   "source": [
    "### Paso 4. Muestre la distribución de la columna \"Rating\", haga un análisis de la distribución."
   ]
  },
  {
   "cell_type": "code",
   "execution_count": 7,
   "id": "39cb77c6",
   "metadata": {},
   "outputs": [
    {
     "data": {
      "image/png": "[encoded data removed]",
      "text/plain": [
       "<Figure size 1200x500 with 2 Axes>"
      ]
     },
     "metadata": {},
     "output_type": "display_data"
    }
   ],
   "source": [
    "plt.figure(figsize=(12, 5))\n",
    "plt.subplot(1, 2, 1)\n",
    "sns.histplot(df['Rating'], kde=True)\n",
    "plt.title('Distribución de Rating')\n",
    "\n",
    "plt.subplot(1, 2, 2)\n",
    "sns.boxplot(x=df['Rating'])\n",
    "plt.title('Boxplot de Rating')\n",
    "\n",
    "plt.tight_layout()\n",
    "plt.show()"
   ]
  },
  {
   "cell_type": "markdown",
   "id": "8d7b71bc",
   "metadata": {},
   "source": [
    "Podemos observar que la variable'Rating' cuanta con valores que varían entre 1, 2, ..., 10, entonces podemos decir que estamos frente a una variable discreta, por lo que podríamos encontrarnos frente a un problema de clasificación, esta variable representa la calificación que obtuvo el live-action y por la forma de la distribución, podríamos decir que la mayoría de las calificaciones son altas. "
   ]
  },
  {
   "cell_type": "markdown",
   "id": "2d9d06a4",
   "metadata": {},
   "source": [
    "### Paso 5. Identifique si alguna de las columnas se puede convertir en categórica."
   ]
  },
  {
   "cell_type": "code",
   "execution_count": 8,
   "id": "9129bfed",
   "metadata": {},
   "outputs": [
    {
     "data": {
      "text/plain": [
       "Title     878\n",
       "Review    878\n",
       "Date       40\n",
       "Rating     10\n",
       "dtype: int64"
      ]
     },
     "execution_count": 8,
     "metadata": {},
     "output_type": "execute_result"
    }
   ],
   "source": [
    "df.nunique()"
   ]
  },
  {
   "cell_type": "code",
   "execution_count": 9,
   "id": "a8b0bcf4",
   "metadata": {},
   "outputs": [
    {
     "name": "stdout",
     "output_type": "stream",
     "text": [
      "Cantidad de datos unicos en Date: 40\n",
      "Lista de valores unicos: \n"
     ]
    },
    {
     "data": {
      "text/plain": [
       "['4 September 2023',\n",
       " '1 September 2023',\n",
       " '31 August 2023',\n",
       " '11 September 2023',\n",
       " '16 September 2023',\n",
       " '6 September 2023',\n",
       " '2 September 2023',\n",
       " '1 October 2023',\n",
       " '5 September 2023',\n",
       " '7 September 2023',\n",
       " '10 September 2023',\n",
       " '9 September 2023',\n",
       " '14 September 2023',\n",
       " '24 September 2023',\n",
       " '3 October 2023',\n",
       " '5 October 2023',\n",
       " '22 September 2023',\n",
       " '26 September 2023',\n",
       " '3 September 2023',\n",
       " '29 September 2023',\n",
       " '17 September 2023',\n",
       " '18 September 2023',\n",
       " '12 September 2023',\n",
       " '27 September 2023',\n",
       " '15 September 2023',\n",
       " '8 September 2023',\n",
       " '20 September 2023',\n",
       " '21 September 2023',\n",
       " '25 September 2023',\n",
       " '13 September 2023',\n",
       " '23 September 2023',\n",
       " '4 October 2023',\n",
       " '30 September 2023',\n",
       " '19 September 2023',\n",
       " '8 October 2023',\n",
       " '28 September 2023',\n",
       " '2 October 2023',\n",
       " '9 October 2023',\n",
       " '7 October 2023',\n",
       " '6 October 2023']"
      ]
     },
     "execution_count": 9,
     "metadata": {},
     "output_type": "execute_result"
    }
   ],
   "source": [
    "print(f\"Cantidad de datos unicos en Date:\", df['Date'].nunique())\n",
    "print('Lista de valores unicos: ') \n",
    "df['Date'].unique().tolist()"
   ]
  },
  {
   "cell_type": "markdown",
   "id": "3d2521e3",
   "metadata": {},
   "source": [
    "Una vez analizado la cantidad de datos únicos y dado el contexto de las variables:\n",
    "\n",
    "Title y Review: Estas columnas tienen un número muy grande de valores únicos. Convertirlas a categóricas podría no ser beneficioso, ya que las categorías podrían ser demasiado específicas. \n",
    "\n",
    "Date: Tiene 40 valores únicos. Esta variable podría ser candidata, porque únicamente se registran variación de dos meses en un mismo año, y varían, dado que se considera el día, podríamos llevar una categorización por mes; sin embargo, debemos de analizar que tan conveniente podría llegar a ser.  \n",
    "\n",
    "Rating: Tiene 10 valores únicos, aunque podemos tratarla como una clasificación, convertir esta columna a categórica podría no ser apropiado porque podemos trabajar con los valores numéricos.\n"
   ]
  },
  {
   "cell_type": "markdown",
   "id": "02281dc9",
   "metadata": {},
   "source": [
    "## ETAPA 2: ANÁLISIS DE SENTIMIENTOS.\n",
    "\n",
    "### Paso 1. Muestre las primeras 10 filas del dataset con las columnas \"Rating\" y \"Review\", haga un análisis rápido de esa información."
   ]
  },
  {
   "cell_type": "code",
   "execution_count": 10,
   "id": "a29e724e",
   "metadata": {},
   "outputs": [
    {
     "data": {
      "text/html": [
       "<div>\n",
       "<style scoped>\n",
       "    .dataframe tbody tr th:only-of-type {\n",
       "        vertical-align: middle;\n",
       "    }\n",
       "\n",
       "    .dataframe tbody tr th {\n",
       "        vertical-align: top;\n",
       "    }\n",
       "\n",
       "    .dataframe thead th {\n",
       "        text-align: right;\n",
       "    }\n",
       "</style>\n",
       "<table border=\"1\" class=\"dataframe\">\n",
       "  <thead>\n",
       "    <tr style=\"text-align: right;\">\n",
       "      <th></th>\n",
       "      <th>Title</th>\n",
       "      <th>Review</th>\n",
       "    </tr>\n",
       "  </thead>\n",
       "  <tbody>\n",
       "    <tr>\n",
       "      <th>0</th>\n",
       "      <td>Never seen the anime and still enjoyed it</td>\n",
       "      <td>I have to admit that I've never watched any of...</td>\n",
       "    </tr>\n",
       "    <tr>\n",
       "      <th>1</th>\n",
       "      <td>Not My Kind of Show. But This I Loved.</td>\n",
       "      <td>I'm a 60yo man &amp; old school like the The Marin...</td>\n",
       "    </tr>\n",
       "    <tr>\n",
       "      <th>2</th>\n",
       "      <td>I'm Shocked By How Good This Is...</td>\n",
       "      <td>Every live action anime that I've briefly seen...</td>\n",
       "    </tr>\n",
       "    <tr>\n",
       "      <th>3</th>\n",
       "      <td>See Netflix?? You CAN do it...</td>\n",
       "      <td>This is bar none one of the best live-action a...</td>\n",
       "    </tr>\n",
       "    <tr>\n",
       "      <th>4</th>\n",
       "      <td>WE WANT SEASON 2</td>\n",
       "      <td>Being a one piece fan myself, I was a bit inse...</td>\n",
       "    </tr>\n",
       "    <tr>\n",
       "      <th>5</th>\n",
       "      <td>Wow! Just Big Wow!!</td>\n",
       "      <td>GREAT ADAPTATION! As an old-school fan (since ...</td>\n",
       "    </tr>\n",
       "    <tr>\n",
       "      <th>6</th>\n",
       "      <td>Not an anime fan, but this a fun adventure!</td>\n",
       "      <td>My kids play and watch One Piece anime and lov...</td>\n",
       "    </tr>\n",
       "    <tr>\n",
       "      <th>7</th>\n",
       "      <td>Netflix can make something great</td>\n",
       "      <td>I was so surprised that Netflix made something...</td>\n",
       "    </tr>\n",
       "    <tr>\n",
       "      <th>8</th>\n",
       "      <td>Refreshingly Fun</td>\n",
       "      <td>Parenthetically I don't know anything about th...</td>\n",
       "    </tr>\n",
       "    <tr>\n",
       "      <th>9</th>\n",
       "      <td>Best show of the year!!</td>\n",
       "      <td>Initially I was apprehensive because of anime ...</td>\n",
       "    </tr>\n",
       "  </tbody>\n",
       "</table>\n",
       "</div>"
      ],
      "text/plain": [
       "                                         Title  \\\n",
       "0    Never seen the anime and still enjoyed it   \n",
       "1       Not My Kind of Show. But This I Loved.   \n",
       "2           I'm Shocked By How Good This Is...   \n",
       "3               See Netflix?? You CAN do it...   \n",
       "4                             WE WANT SEASON 2   \n",
       "5                          Wow! Just Big Wow!!   \n",
       "6  Not an anime fan, but this a fun adventure!   \n",
       "7             Netflix can make something great   \n",
       "8                             Refreshingly Fun   \n",
       "9                      Best show of the year!!   \n",
       "\n",
       "                                              Review  \n",
       "0  I have to admit that I've never watched any of...  \n",
       "1  I'm a 60yo man & old school like the The Marin...  \n",
       "2  Every live action anime that I've briefly seen...  \n",
       "3  This is bar none one of the best live-action a...  \n",
       "4  Being a one piece fan myself, I was a bit inse...  \n",
       "5  GREAT ADAPTATION! As an old-school fan (since ...  \n",
       "6  My kids play and watch One Piece anime and lov...  \n",
       "7  I was so surprised that Netflix made something...  \n",
       "8  Parenthetically I don't know anything about th...  \n",
       "9  Initially I was apprehensive because of anime ...  "
      ]
     },
     "execution_count": 10,
     "metadata": {},
     "output_type": "execute_result"
    }
   ],
   "source": [
    "df[['Title', 'Review']].head(10)"
   ]
  },
  {
   "cell_type": "markdown",
   "id": "04ee1bcc",
   "metadata": {},
   "source": [
    "### Paso 2. Haga una función que se encargue del pre-procesamiento:\n",
    "#### - Genere los tokens.\n",
    "#### - Filtre las palabras de parada.\n",
    "#### - Obtenga el lema de las palabras y guárdelo en una lista.\n",
    "#### - Retorne la lista en forma de una cadena, para ello debe unir los elementos de la lista mediante un espacio."
   ]
  },
  {
   "cell_type": "code",
   "execution_count": 11,
   "id": "4e982b5f",
   "metadata": {},
   "outputs": [],
   "source": [
    "def preprocess_text(text):\n",
    "    tokens = word_tokenize(text.lower())\n",
    "    filtered_tokens = [token for token in tokens if token not in stopwords.words('english')]\n",
    "    \n",
    "    lemmatizer = WordNetLemmatizer()  \n",
    "    lemmatized_tokens = [lemmatizer.lemmatize(token) for token in filtered_tokens]\n",
    "    \n",
    "    processed_text = ' '.join(lemmatized_tokens)\n",
    "    \n",
    "    return processed_text"
   ]
  },
  {
   "cell_type": "markdown",
   "id": "6f15a584",
   "metadata": {},
   "source": [
    "### Paso 3. Aplique la función creada para obtener el lema de las columnas \"Review\" y \"Title\", guárde el resultado en nuevas columnas dentro del dataframe original (por ejemplo: \"ReviewText\", \"TitleText\")."
   ]
  },
  {
   "cell_type": "code",
   "execution_count": 12,
   "id": "2980b14b",
   "metadata": {},
   "outputs": [],
   "source": [
    "df['ReviewText'] = df['Review'].apply(preprocess_text)\n",
    "df['TitleText'] = df['Title'].apply(preprocess_text)"
   ]
  },
  {
   "cell_type": "code",
   "execution_count": 13,
   "id": "8215983d",
   "metadata": {},
   "outputs": [
    {
     "data": {
      "text/html": [
       "<div>\n",
       "<style scoped>\n",
       "    .dataframe tbody tr th:only-of-type {\n",
       "        vertical-align: middle;\n",
       "    }\n",
       "\n",
       "    .dataframe tbody tr th {\n",
       "        vertical-align: top;\n",
       "    }\n",
       "\n",
       "    .dataframe thead th {\n",
       "        text-align: right;\n",
       "    }\n",
       "</style>\n",
       "<table border=\"1\" class=\"dataframe\">\n",
       "  <thead>\n",
       "    <tr style=\"text-align: right;\">\n",
       "      <th></th>\n",
       "      <th>ReviewText</th>\n",
       "      <th>TitleText</th>\n",
       "    </tr>\n",
       "  </thead>\n",
       "  <tbody>\n",
       "    <tr>\n",
       "      <th>0</th>\n",
       "      <td>admit 've never watched animated show one piec...</td>\n",
       "      <td>never seen anime still enjoyed</td>\n",
       "    </tr>\n",
       "    <tr>\n",
       "      <th>1</th>\n",
       "      <td>'m 60yo man &amp; old school like marine admiral 😄...</td>\n",
       "      <td>kind show . loved .</td>\n",
       "    </tr>\n",
       "    <tr>\n",
       "      <th>2</th>\n",
       "      <td>every live action anime 've briefly seen nothi...</td>\n",
       "      <td>'m shocked good ...</td>\n",
       "    </tr>\n",
       "    <tr>\n",
       "      <th>3</th>\n",
       "      <td>bar none one best live-action adaption animate...</td>\n",
       "      <td>see netflix ? ? ...</td>\n",
       "    </tr>\n",
       "    <tr>\n",
       "      <th>4</th>\n",
       "      <td>one piece fan , bit insecured starting series ...</td>\n",
       "      <td>want season 2</td>\n",
       "    </tr>\n",
       "    <tr>\n",
       "      <th>5</th>\n",
       "      <td>great adaptation ! old-school fan ( since 2006...</td>\n",
       "      <td>wow ! big wow ! !</td>\n",
       "    </tr>\n",
       "    <tr>\n",
       "      <th>6</th>\n",
       "      <td>kid play watch one piece anime love ! n't terr...</td>\n",
       "      <td>anime fan , fun adventure !</td>\n",
       "    </tr>\n",
       "    <tr>\n",
       "      <th>7</th>\n",
       "      <td>surprised netflix made something incredible . ...</td>\n",
       "      <td>netflix make something great</td>\n",
       "    </tr>\n",
       "    <tr>\n",
       "      <th>8</th>\n",
       "      <td>parenthetically n't know anything source mater...</td>\n",
       "      <td>refreshingly fun</td>\n",
       "    </tr>\n",
       "    <tr>\n",
       "      <th>9</th>\n",
       "      <td>initially apprehensive anime adaptation produc...</td>\n",
       "      <td>best show year ! !</td>\n",
       "    </tr>\n",
       "  </tbody>\n",
       "</table>\n",
       "</div>"
      ],
      "text/plain": [
       "                                          ReviewText  \\\n",
       "0  admit 've never watched animated show one piec...   \n",
       "1  'm 60yo man & old school like marine admiral 😄...   \n",
       "2  every live action anime 've briefly seen nothi...   \n",
       "3  bar none one best live-action adaption animate...   \n",
       "4  one piece fan , bit insecured starting series ...   \n",
       "5  great adaptation ! old-school fan ( since 2006...   \n",
       "6  kid play watch one piece anime love ! n't terr...   \n",
       "7  surprised netflix made something incredible . ...   \n",
       "8  parenthetically n't know anything source mater...   \n",
       "9  initially apprehensive anime adaptation produc...   \n",
       "\n",
       "                        TitleText  \n",
       "0  never seen anime still enjoyed  \n",
       "1             kind show . loved .  \n",
       "2             'm shocked good ...  \n",
       "3             see netflix ? ? ...  \n",
       "4                   want season 2  \n",
       "5               wow ! big wow ! !  \n",
       "6     anime fan , fun adventure !  \n",
       "7    netflix make something great  \n",
       "8                refreshingly fun  \n",
       "9              best show year ! !  "
      ]
     },
     "execution_count": 13,
     "metadata": {},
     "output_type": "execute_result"
    }
   ],
   "source": [
    "df[['ReviewText', 'TitleText']].head(10)"
   ]
  },
  {
   "cell_type": "markdown",
   "id": "c3ad6934",
   "metadata": {},
   "source": [
    "### Paso 4. Haga una función para obtener el sentimiento de las palabras, para ello puede utilizar el SentimentIntensityAnalizer() y su función \"polarity_scores()\". Al final debe retornar el puntaje de sentimiento."
   ]
  },
  {
   "cell_type": "code",
   "execution_count": 14,
   "id": "6db5a55e",
   "metadata": {},
   "outputs": [],
   "source": [
    "analyzer = SentimentIntensityAnalyzer()\n",
    "\n",
    "def get_sentiment(text):\n",
    "    scores = analyzer.polarity_scores(text)\n",
    "    sentiment = 1 if scores['pos'] > 0 else 0\n",
    "    return sentiment\n"
   ]
  },
  {
   "cell_type": "markdown",
   "id": "7bb228ac",
   "metadata": {},
   "source": [
    "### Paso 5. Aplique la función creada para obtener el sentimiento en las columnas creadas en el paso 3, guarde el resultado en un par de columnas nuevas (por ejemplo: \"ReviewSentiment\", \"TitleSentiment\")."
   ]
  },
  {
   "cell_type": "code",
   "execution_count": 15,
   "id": "34c855f5",
   "metadata": {},
   "outputs": [],
   "source": [
    "df['ReviewSentiment'] = df['ReviewText'].apply(get_sentiment)\n",
    "df['TitleSentiment'] = df['TitleText'].apply(get_sentiment)"
   ]
  },
  {
   "cell_type": "code",
   "execution_count": 16,
   "id": "4ed799e3",
   "metadata": {},
   "outputs": [
    {
     "data": {
      "text/html": [
       "<div>\n",
       "<style scoped>\n",
       "    .dataframe tbody tr th:only-of-type {\n",
       "        vertical-align: middle;\n",
       "    }\n",
       "\n",
       "    .dataframe tbody tr th {\n",
       "        vertical-align: top;\n",
       "    }\n",
       "\n",
       "    .dataframe thead th {\n",
       "        text-align: right;\n",
       "    }\n",
       "</style>\n",
       "<table border=\"1\" class=\"dataframe\">\n",
       "  <thead>\n",
       "    <tr style=\"text-align: right;\">\n",
       "      <th></th>\n",
       "      <th>ReviewSentiment</th>\n",
       "      <th>TitleSentiment</th>\n",
       "    </tr>\n",
       "  </thead>\n",
       "  <tbody>\n",
       "    <tr>\n",
       "      <th>0</th>\n",
       "      <td>1</td>\n",
       "      <td>1</td>\n",
       "    </tr>\n",
       "    <tr>\n",
       "      <th>1</th>\n",
       "      <td>1</td>\n",
       "      <td>1</td>\n",
       "    </tr>\n",
       "    <tr>\n",
       "      <th>2</th>\n",
       "      <td>1</td>\n",
       "      <td>1</td>\n",
       "    </tr>\n",
       "    <tr>\n",
       "      <th>3</th>\n",
       "      <td>1</td>\n",
       "      <td>0</td>\n",
       "    </tr>\n",
       "    <tr>\n",
       "      <th>4</th>\n",
       "      <td>1</td>\n",
       "      <td>1</td>\n",
       "    </tr>\n",
       "    <tr>\n",
       "      <th>5</th>\n",
       "      <td>1</td>\n",
       "      <td>1</td>\n",
       "    </tr>\n",
       "    <tr>\n",
       "      <th>6</th>\n",
       "      <td>1</td>\n",
       "      <td>1</td>\n",
       "    </tr>\n",
       "    <tr>\n",
       "      <th>7</th>\n",
       "      <td>1</td>\n",
       "      <td>1</td>\n",
       "    </tr>\n",
       "    <tr>\n",
       "      <th>8</th>\n",
       "      <td>1</td>\n",
       "      <td>1</td>\n",
       "    </tr>\n",
       "    <tr>\n",
       "      <th>9</th>\n",
       "      <td>1</td>\n",
       "      <td>1</td>\n",
       "    </tr>\n",
       "  </tbody>\n",
       "</table>\n",
       "</div>"
      ],
      "text/plain": [
       "   ReviewSentiment  TitleSentiment\n",
       "0                1               1\n",
       "1                1               1\n",
       "2                1               1\n",
       "3                1               0\n",
       "4                1               1\n",
       "5                1               1\n",
       "6                1               1\n",
       "7                1               1\n",
       "8                1               1\n",
       "9                1               1"
      ]
     },
     "execution_count": 16,
     "metadata": {},
     "output_type": "execute_result"
    }
   ],
   "source": [
    "df[['ReviewSentiment', 'TitleSentiment']].head(10)"
   ]
  },
  {
   "cell_type": "markdown",
   "id": "47b59718",
   "metadata": {},
   "source": [
    "### Paso 6. Prepare un dataframe con las columnas originales + las columnas creadas previamente, tendrían que haber 8 columnas, 3 de ellas deben ser numéricas (incluyendo \"Rating\")."
   ]
  },
  {
   "cell_type": "code",
   "execution_count": 17,
   "id": "760d0981",
   "metadata": {},
   "outputs": [],
   "source": [
    "df_nuevo = df.copy()"
   ]
  },
  {
   "cell_type": "code",
   "execution_count": 18,
   "id": "ea49f172",
   "metadata": {},
   "outputs": [
    {
     "name": "stdout",
     "output_type": "stream",
     "text": [
      "<class 'pandas.core.frame.DataFrame'>\n",
      "RangeIndex: 878 entries, 0 to 877\n",
      "Data columns (total 8 columns):\n",
      " #   Column           Non-Null Count  Dtype  \n",
      "---  ------           --------------  -----  \n",
      " 0   Title            878 non-null    object \n",
      " 1   Review           878 non-null    object \n",
      " 2   Date             878 non-null    object \n",
      " 3   Rating           870 non-null    float64\n",
      " 4   ReviewText       878 non-null    object \n",
      " 5   TitleText        878 non-null    object \n",
      " 6   ReviewSentiment  878 non-null    int64  \n",
      " 7   TitleSentiment   878 non-null    int64  \n",
      "dtypes: float64(1), int64(2), object(5)\n",
      "memory usage: 55.0+ KB\n",
      "None\n"
     ]
    }
   ],
   "source": [
    "print(df_nuevo.info())"
   ]
  },
  {
   "cell_type": "code",
   "execution_count": 19,
   "id": "52985e4f",
   "metadata": {},
   "outputs": [
    {
     "data": {
      "text/html": [
       "<div>\n",
       "<style scoped>\n",
       "    .dataframe tbody tr th:only-of-type {\n",
       "        vertical-align: middle;\n",
       "    }\n",
       "\n",
       "    .dataframe tbody tr th {\n",
       "        vertical-align: top;\n",
       "    }\n",
       "\n",
       "    .dataframe thead th {\n",
       "        text-align: right;\n",
       "    }\n",
       "</style>\n",
       "<table border=\"1\" class=\"dataframe\">\n",
       "  <thead>\n",
       "    <tr style=\"text-align: right;\">\n",
       "      <th></th>\n",
       "      <th>Title</th>\n",
       "      <th>Review</th>\n",
       "      <th>Date</th>\n",
       "      <th>Rating</th>\n",
       "      <th>ReviewText</th>\n",
       "      <th>TitleText</th>\n",
       "      <th>ReviewSentiment</th>\n",
       "      <th>TitleSentiment</th>\n",
       "    </tr>\n",
       "  </thead>\n",
       "  <tbody>\n",
       "    <tr>\n",
       "      <th>0</th>\n",
       "      <td>Never seen the anime and still enjoyed it</td>\n",
       "      <td>I have to admit that I've never watched any of...</td>\n",
       "      <td>4 September 2023</td>\n",
       "      <td>8.0</td>\n",
       "      <td>admit 've never watched animated show one piec...</td>\n",
       "      <td>never seen anime still enjoyed</td>\n",
       "      <td>1</td>\n",
       "      <td>1</td>\n",
       "    </tr>\n",
       "    <tr>\n",
       "      <th>1</th>\n",
       "      <td>Not My Kind of Show. But This I Loved.</td>\n",
       "      <td>I'm a 60yo man &amp; old school like the The Marin...</td>\n",
       "      <td>4 September 2023</td>\n",
       "      <td>9.0</td>\n",
       "      <td>'m 60yo man &amp; old school like marine admiral 😄...</td>\n",
       "      <td>kind show . loved .</td>\n",
       "      <td>1</td>\n",
       "      <td>1</td>\n",
       "    </tr>\n",
       "    <tr>\n",
       "      <th>2</th>\n",
       "      <td>I'm Shocked By How Good This Is...</td>\n",
       "      <td>Every live action anime that I've briefly seen...</td>\n",
       "      <td>1 September 2023</td>\n",
       "      <td>9.0</td>\n",
       "      <td>every live action anime 've briefly seen nothi...</td>\n",
       "      <td>'m shocked good ...</td>\n",
       "      <td>1</td>\n",
       "      <td>1</td>\n",
       "    </tr>\n",
       "    <tr>\n",
       "      <th>3</th>\n",
       "      <td>See Netflix?? You CAN do it...</td>\n",
       "      <td>This is bar none one of the best live-action a...</td>\n",
       "      <td>4 September 2023</td>\n",
       "      <td>10.0</td>\n",
       "      <td>bar none one best live-action adaption animate...</td>\n",
       "      <td>see netflix ? ? ...</td>\n",
       "      <td>1</td>\n",
       "      <td>0</td>\n",
       "    </tr>\n",
       "    <tr>\n",
       "      <th>4</th>\n",
       "      <td>WE WANT SEASON 2</td>\n",
       "      <td>Being a one piece fan myself, I was a bit inse...</td>\n",
       "      <td>31 August 2023</td>\n",
       "      <td>10.0</td>\n",
       "      <td>one piece fan , bit insecured starting series ...</td>\n",
       "      <td>want season 2</td>\n",
       "      <td>1</td>\n",
       "      <td>1</td>\n",
       "    </tr>\n",
       "  </tbody>\n",
       "</table>\n",
       "</div>"
      ],
      "text/plain": [
       "                                       Title  \\\n",
       "0  Never seen the anime and still enjoyed it   \n",
       "1     Not My Kind of Show. But This I Loved.   \n",
       "2         I'm Shocked By How Good This Is...   \n",
       "3             See Netflix?? You CAN do it...   \n",
       "4                           WE WANT SEASON 2   \n",
       "\n",
       "                                              Review              Date  \\\n",
       "0  I have to admit that I've never watched any of...  4 September 2023   \n",
       "1  I'm a 60yo man & old school like the The Marin...  4 September 2023   \n",
       "2  Every live action anime that I've briefly seen...  1 September 2023   \n",
       "3  This is bar none one of the best live-action a...  4 September 2023   \n",
       "4  Being a one piece fan myself, I was a bit inse...    31 August 2023   \n",
       "\n",
       "   Rating                                         ReviewText  \\\n",
       "0     8.0  admit 've never watched animated show one piec...   \n",
       "1     9.0  'm 60yo man & old school like marine admiral 😄...   \n",
       "2     9.0  every live action anime 've briefly seen nothi...   \n",
       "3    10.0  bar none one best live-action adaption animate...   \n",
       "4    10.0  one piece fan , bit insecured starting series ...   \n",
       "\n",
       "                        TitleText  ReviewSentiment  TitleSentiment  \n",
       "0  never seen anime still enjoyed                1               1  \n",
       "1             kind show . loved .                1               1  \n",
       "2             'm shocked good ...                1               1  \n",
       "3             see netflix ? ? ...                1               0  \n",
       "4                   want season 2                1               1  "
      ]
     },
     "execution_count": 19,
     "metadata": {},
     "output_type": "execute_result"
    }
   ],
   "source": [
    "df_nuevo.head()"
   ]
  },
  {
   "cell_type": "markdown",
   "id": "ae759c54",
   "metadata": {},
   "source": [
    "## ETAPA 3: MACHINE LEARNING.\n",
    "\n",
    "### Paso 1. Asigne a la variable X las columnas numéricas menos \"Rating\"; asigne a la variable Y la columna \"Rating\", seleccione únicamente las filas sin datos nulos (no elimine ni trate las filas con datos nulos, esas se usarán para predecir)"
   ]
  },
  {
   "cell_type": "code",
   "execution_count": 20,
   "id": "381378b8",
   "metadata": {},
   "outputs": [],
   "source": [
    "df_sin_nulos = df_nuevo.dropna()\n",
    "X = df_sin_nulos[['ReviewSentiment','TitleSentiment']]\n",
    "Y = df_sin_nulos['Rating']"
   ]
  },
  {
   "cell_type": "markdown",
   "id": "29bb05e5",
   "metadata": {},
   "source": [
    "### Paso 2. Divida en una muestra de entrenamiento y en una muestra de pruebas, estratifique en base a la proporción de la variable objetivo. El tamaño de la muestra para entrenamiento debe ser del 85%. Asigne una semilla para poder reproducir los resultados.\n"
   ]
  },
  {
   "cell_type": "code",
   "execution_count": 21,
   "id": "04f337d9",
   "metadata": {},
   "outputs": [],
   "source": [
    "x_entrenamiento, x_prueba, y_entrenamiento, y_prueba = train_test_split(X, Y, test_size=0.15, stratify=Y, random_state=123)"
   ]
  },
  {
   "cell_type": "markdown",
   "id": "2a9fef46",
   "metadata": {},
   "source": [
    "### Paso 3. Entrene los siguientes modelos:\n",
    "#### - KNN para clasificación\n"
   ]
  },
  {
   "cell_type": "code",
   "execution_count": 22,
   "id": "db9cc816",
   "metadata": {},
   "outputs": [],
   "source": [
    "knn_model = KNeighborsClassifier()\n",
    "knn_model.fit(x_entrenamiento, y_entrenamiento)\n",
    "knn_predicciones = knn_model.predict(x_prueba)"
   ]
  },
  {
   "cell_type": "markdown",
   "id": "793386fa",
   "metadata": {},
   "source": [
    "#### - SVM para clasificación"
   ]
  },
  {
   "cell_type": "code",
   "execution_count": 23,
   "id": "69270e70",
   "metadata": {},
   "outputs": [],
   "source": [
    "svm_model = SVC()\n",
    "svm_model.fit(x_entrenamiento, y_entrenamiento)\n",
    "svm_predicciones = svm_model.predict(x_prueba)"
   ]
  },
  {
   "cell_type": "markdown",
   "id": "99d8f6f2",
   "metadata": {},
   "source": [
    "#### - RandomForest para clasificación"
   ]
  },
  {
   "cell_type": "code",
   "execution_count": 24,
   "id": "db52ec35",
   "metadata": {},
   "outputs": [],
   "source": [
    "rf_model = RandomForestClassifier(random_state=123)\n",
    "rf_model.fit(x_entrenamiento, y_entrenamiento)\n",
    "rf_predicciones = rf_model.predict(x_prueba)"
   ]
  },
  {
   "cell_type": "markdown",
   "id": "85993bfe",
   "metadata": {},
   "source": [
    "### Paso 4. Evalúe el rendimiento de los modelos (puede usar accuracy) creados en el paso previo, muestre las predicciones realizadas y compare con las etiquetas reales."
   ]
  },
  {
   "cell_type": "code",
   "execution_count": 25,
   "id": "c948fd54",
   "metadata": {},
   "outputs": [
    {
     "data": {
      "text/html": [
       "<div>\n",
       "<style scoped>\n",
       "    .dataframe tbody tr th:only-of-type {\n",
       "        vertical-align: middle;\n",
       "    }\n",
       "\n",
       "    .dataframe tbody tr th {\n",
       "        vertical-align: top;\n",
       "    }\n",
       "\n",
       "    .dataframe thead th {\n",
       "        text-align: right;\n",
       "    }\n",
       "</style>\n",
       "<table border=\"1\" class=\"dataframe\">\n",
       "  <thead>\n",
       "    <tr style=\"text-align: right;\">\n",
       "      <th></th>\n",
       "      <th>KNN_Predicciones</th>\n",
       "      <th>SVM_Predicciones</th>\n",
       "      <th>RF_Predicciones</th>\n",
       "      <th>Etiquetas_Reales</th>\n",
       "    </tr>\n",
       "  </thead>\n",
       "  <tbody>\n",
       "    <tr>\n",
       "      <th>808</th>\n",
       "      <td>9.0</td>\n",
       "      <td>10.0</td>\n",
       "      <td>10.0</td>\n",
       "      <td>10.0</td>\n",
       "    </tr>\n",
       "    <tr>\n",
       "      <th>576</th>\n",
       "      <td>9.0</td>\n",
       "      <td>10.0</td>\n",
       "      <td>10.0</td>\n",
       "      <td>1.0</td>\n",
       "    </tr>\n",
       "    <tr>\n",
       "      <th>829</th>\n",
       "      <td>9.0</td>\n",
       "      <td>10.0</td>\n",
       "      <td>10.0</td>\n",
       "      <td>10.0</td>\n",
       "    </tr>\n",
       "    <tr>\n",
       "      <th>401</th>\n",
       "      <td>9.0</td>\n",
       "      <td>10.0</td>\n",
       "      <td>10.0</td>\n",
       "      <td>10.0</td>\n",
       "    </tr>\n",
       "    <tr>\n",
       "      <th>146</th>\n",
       "      <td>9.0</td>\n",
       "      <td>10.0</td>\n",
       "      <td>10.0</td>\n",
       "      <td>10.0</td>\n",
       "    </tr>\n",
       "    <tr>\n",
       "      <th>457</th>\n",
       "      <td>9.0</td>\n",
       "      <td>10.0</td>\n",
       "      <td>10.0</td>\n",
       "      <td>9.0</td>\n",
       "    </tr>\n",
       "    <tr>\n",
       "      <th>425</th>\n",
       "      <td>9.0</td>\n",
       "      <td>10.0</td>\n",
       "      <td>10.0</td>\n",
       "      <td>9.0</td>\n",
       "    </tr>\n",
       "    <tr>\n",
       "      <th>322</th>\n",
       "      <td>9.0</td>\n",
       "      <td>10.0</td>\n",
       "      <td>10.0</td>\n",
       "      <td>4.0</td>\n",
       "    </tr>\n",
       "    <tr>\n",
       "      <th>154</th>\n",
       "      <td>9.0</td>\n",
       "      <td>10.0</td>\n",
       "      <td>10.0</td>\n",
       "      <td>5.0</td>\n",
       "    </tr>\n",
       "    <tr>\n",
       "      <th>785</th>\n",
       "      <td>9.0</td>\n",
       "      <td>10.0</td>\n",
       "      <td>10.0</td>\n",
       "      <td>10.0</td>\n",
       "    </tr>\n",
       "    <tr>\n",
       "      <th>667</th>\n",
       "      <td>9.0</td>\n",
       "      <td>10.0</td>\n",
       "      <td>10.0</td>\n",
       "      <td>10.0</td>\n",
       "    </tr>\n",
       "    <tr>\n",
       "      <th>53</th>\n",
       "      <td>9.0</td>\n",
       "      <td>10.0</td>\n",
       "      <td>10.0</td>\n",
       "      <td>6.0</td>\n",
       "    </tr>\n",
       "    <tr>\n",
       "      <th>455</th>\n",
       "      <td>9.0</td>\n",
       "      <td>10.0</td>\n",
       "      <td>10.0</td>\n",
       "      <td>10.0</td>\n",
       "    </tr>\n",
       "    <tr>\n",
       "      <th>480</th>\n",
       "      <td>9.0</td>\n",
       "      <td>10.0</td>\n",
       "      <td>10.0</td>\n",
       "      <td>7.0</td>\n",
       "    </tr>\n",
       "    <tr>\n",
       "      <th>864</th>\n",
       "      <td>9.0</td>\n",
       "      <td>10.0</td>\n",
       "      <td>10.0</td>\n",
       "      <td>9.0</td>\n",
       "    </tr>\n",
       "    <tr>\n",
       "      <th>662</th>\n",
       "      <td>9.0</td>\n",
       "      <td>10.0</td>\n",
       "      <td>10.0</td>\n",
       "      <td>10.0</td>\n",
       "    </tr>\n",
       "    <tr>\n",
       "      <th>865</th>\n",
       "      <td>9.0</td>\n",
       "      <td>10.0</td>\n",
       "      <td>10.0</td>\n",
       "      <td>6.0</td>\n",
       "    </tr>\n",
       "    <tr>\n",
       "      <th>792</th>\n",
       "      <td>9.0</td>\n",
       "      <td>10.0</td>\n",
       "      <td>10.0</td>\n",
       "      <td>10.0</td>\n",
       "    </tr>\n",
       "    <tr>\n",
       "      <th>205</th>\n",
       "      <td>9.0</td>\n",
       "      <td>10.0</td>\n",
       "      <td>10.0</td>\n",
       "      <td>10.0</td>\n",
       "    </tr>\n",
       "    <tr>\n",
       "      <th>856</th>\n",
       "      <td>9.0</td>\n",
       "      <td>10.0</td>\n",
       "      <td>10.0</td>\n",
       "      <td>10.0</td>\n",
       "    </tr>\n",
       "  </tbody>\n",
       "</table>\n",
       "</div>"
      ],
      "text/plain": [
       "     KNN_Predicciones  SVM_Predicciones  RF_Predicciones  Etiquetas_Reales\n",
       "808               9.0              10.0             10.0              10.0\n",
       "576               9.0              10.0             10.0               1.0\n",
       "829               9.0              10.0             10.0              10.0\n",
       "401               9.0              10.0             10.0              10.0\n",
       "146               9.0              10.0             10.0              10.0\n",
       "457               9.0              10.0             10.0               9.0\n",
       "425               9.0              10.0             10.0               9.0\n",
       "322               9.0              10.0             10.0               4.0\n",
       "154               9.0              10.0             10.0               5.0\n",
       "785               9.0              10.0             10.0              10.0\n",
       "667               9.0              10.0             10.0              10.0\n",
       "53                9.0              10.0             10.0               6.0\n",
       "455               9.0              10.0             10.0              10.0\n",
       "480               9.0              10.0             10.0               7.0\n",
       "864               9.0              10.0             10.0               9.0\n",
       "662               9.0              10.0             10.0              10.0\n",
       "865               9.0              10.0             10.0               6.0\n",
       "792               9.0              10.0             10.0              10.0\n",
       "205               9.0              10.0             10.0              10.0\n",
       "856               9.0              10.0             10.0              10.0"
      ]
     },
     "execution_count": 25,
     "metadata": {},
     "output_type": "execute_result"
    }
   ],
   "source": [
    "df_resultados = pd.DataFrame({\n",
    "    'KNN_Predicciones': knn_predicciones,\n",
    "    'SVM_Predicciones': svm_predicciones,\n",
    "    'RF_Predicciones': rf_predicciones,\n",
    "    'Etiquetas_Reales': y_prueba\n",
    "})\n",
    "\n",
    "df_resultados.head(20)"
   ]
  },
  {
   "cell_type": "code",
   "execution_count": 26,
   "id": "b67bea09",
   "metadata": {},
   "outputs": [
    {
     "data": {
      "text/html": [
       "<div>\n",
       "<style scoped>\n",
       "    .dataframe tbody tr th:only-of-type {\n",
       "        vertical-align: middle;\n",
       "    }\n",
       "\n",
       "    .dataframe tbody tr th {\n",
       "        vertical-align: top;\n",
       "    }\n",
       "\n",
       "    .dataframe thead th {\n",
       "        text-align: right;\n",
       "    }\n",
       "</style>\n",
       "<table border=\"1\" class=\"dataframe\">\n",
       "  <thead>\n",
       "    <tr style=\"text-align: right;\">\n",
       "      <th></th>\n",
       "      <th>KNN_Predicciones</th>\n",
       "      <th>SVM_Predicciones</th>\n",
       "      <th>RF_Predicciones</th>\n",
       "      <th>Etiquetas_Reales</th>\n",
       "    </tr>\n",
       "  </thead>\n",
       "  <tbody>\n",
       "    <tr>\n",
       "      <th>527</th>\n",
       "      <td>9.0</td>\n",
       "      <td>10.0</td>\n",
       "      <td>10.0</td>\n",
       "      <td>10.0</td>\n",
       "    </tr>\n",
       "    <tr>\n",
       "      <th>67</th>\n",
       "      <td>9.0</td>\n",
       "      <td>10.0</td>\n",
       "      <td>10.0</td>\n",
       "      <td>10.0</td>\n",
       "    </tr>\n",
       "    <tr>\n",
       "      <th>42</th>\n",
       "      <td>9.0</td>\n",
       "      <td>10.0</td>\n",
       "      <td>10.0</td>\n",
       "      <td>9.0</td>\n",
       "    </tr>\n",
       "    <tr>\n",
       "      <th>281</th>\n",
       "      <td>9.0</td>\n",
       "      <td>10.0</td>\n",
       "      <td>10.0</td>\n",
       "      <td>10.0</td>\n",
       "    </tr>\n",
       "    <tr>\n",
       "      <th>460</th>\n",
       "      <td>9.0</td>\n",
       "      <td>10.0</td>\n",
       "      <td>10.0</td>\n",
       "      <td>10.0</td>\n",
       "    </tr>\n",
       "    <tr>\n",
       "      <th>213</th>\n",
       "      <td>9.0</td>\n",
       "      <td>10.0</td>\n",
       "      <td>10.0</td>\n",
       "      <td>8.0</td>\n",
       "    </tr>\n",
       "    <tr>\n",
       "      <th>312</th>\n",
       "      <td>9.0</td>\n",
       "      <td>10.0</td>\n",
       "      <td>10.0</td>\n",
       "      <td>8.0</td>\n",
       "    </tr>\n",
       "    <tr>\n",
       "      <th>114</th>\n",
       "      <td>9.0</td>\n",
       "      <td>10.0</td>\n",
       "      <td>10.0</td>\n",
       "      <td>3.0</td>\n",
       "    </tr>\n",
       "    <tr>\n",
       "      <th>353</th>\n",
       "      <td>9.0</td>\n",
       "      <td>10.0</td>\n",
       "      <td>10.0</td>\n",
       "      <td>10.0</td>\n",
       "    </tr>\n",
       "    <tr>\n",
       "      <th>66</th>\n",
       "      <td>9.0</td>\n",
       "      <td>10.0</td>\n",
       "      <td>10.0</td>\n",
       "      <td>2.0</td>\n",
       "    </tr>\n",
       "    <tr>\n",
       "      <th>821</th>\n",
       "      <td>9.0</td>\n",
       "      <td>10.0</td>\n",
       "      <td>10.0</td>\n",
       "      <td>1.0</td>\n",
       "    </tr>\n",
       "    <tr>\n",
       "      <th>450</th>\n",
       "      <td>9.0</td>\n",
       "      <td>10.0</td>\n",
       "      <td>10.0</td>\n",
       "      <td>10.0</td>\n",
       "    </tr>\n",
       "    <tr>\n",
       "      <th>299</th>\n",
       "      <td>9.0</td>\n",
       "      <td>10.0</td>\n",
       "      <td>10.0</td>\n",
       "      <td>1.0</td>\n",
       "    </tr>\n",
       "    <tr>\n",
       "      <th>34</th>\n",
       "      <td>9.0</td>\n",
       "      <td>10.0</td>\n",
       "      <td>10.0</td>\n",
       "      <td>7.0</td>\n",
       "    </tr>\n",
       "    <tr>\n",
       "      <th>83</th>\n",
       "      <td>9.0</td>\n",
       "      <td>10.0</td>\n",
       "      <td>10.0</td>\n",
       "      <td>9.0</td>\n",
       "    </tr>\n",
       "    <tr>\n",
       "      <th>84</th>\n",
       "      <td>9.0</td>\n",
       "      <td>10.0</td>\n",
       "      <td>10.0</td>\n",
       "      <td>10.0</td>\n",
       "    </tr>\n",
       "    <tr>\n",
       "      <th>565</th>\n",
       "      <td>9.0</td>\n",
       "      <td>10.0</td>\n",
       "      <td>10.0</td>\n",
       "      <td>10.0</td>\n",
       "    </tr>\n",
       "    <tr>\n",
       "      <th>234</th>\n",
       "      <td>9.0</td>\n",
       "      <td>10.0</td>\n",
       "      <td>10.0</td>\n",
       "      <td>9.0</td>\n",
       "    </tr>\n",
       "    <tr>\n",
       "      <th>340</th>\n",
       "      <td>9.0</td>\n",
       "      <td>10.0</td>\n",
       "      <td>10.0</td>\n",
       "      <td>10.0</td>\n",
       "    </tr>\n",
       "    <tr>\n",
       "      <th>13</th>\n",
       "      <td>9.0</td>\n",
       "      <td>10.0</td>\n",
       "      <td>10.0</td>\n",
       "      <td>9.0</td>\n",
       "    </tr>\n",
       "  </tbody>\n",
       "</table>\n",
       "</div>"
      ],
      "text/plain": [
       "     KNN_Predicciones  SVM_Predicciones  RF_Predicciones  Etiquetas_Reales\n",
       "527               9.0              10.0             10.0              10.0\n",
       "67                9.0              10.0             10.0              10.0\n",
       "42                9.0              10.0             10.0               9.0\n",
       "281               9.0              10.0             10.0              10.0\n",
       "460               9.0              10.0             10.0              10.0\n",
       "213               9.0              10.0             10.0               8.0\n",
       "312               9.0              10.0             10.0               8.0\n",
       "114               9.0              10.0             10.0               3.0\n",
       "353               9.0              10.0             10.0              10.0\n",
       "66                9.0              10.0             10.0               2.0\n",
       "821               9.0              10.0             10.0               1.0\n",
       "450               9.0              10.0             10.0              10.0\n",
       "299               9.0              10.0             10.0               1.0\n",
       "34                9.0              10.0             10.0               7.0\n",
       "83                9.0              10.0             10.0               9.0\n",
       "84                9.0              10.0             10.0              10.0\n",
       "565               9.0              10.0             10.0              10.0\n",
       "234               9.0              10.0             10.0               9.0\n",
       "340               9.0              10.0             10.0              10.0\n",
       "13                9.0              10.0             10.0               9.0"
      ]
     },
     "execution_count": 26,
     "metadata": {},
     "output_type": "execute_result"
    }
   ],
   "source": [
    "df_resultados.tail(20)"
   ]
  },
  {
   "cell_type": "code",
   "execution_count": 27,
   "id": "2bb28b03",
   "metadata": {},
   "outputs": [
    {
     "name": "stdout",
     "output_type": "stream",
     "text": [
      "Precisión del modelo KNN: 0.1984732824427481\n",
      "Precisión del modelo SVM: 0.4961832061068702\n",
      "Precisión del modelo RandomForest: 0.4961832061068702\n"
     ]
    }
   ],
   "source": [
    "precision_knn = accuracy_score(y_prueba, knn_predicciones)\n",
    "print(f\"Precisión del modelo KNN: {precision_knn}\")\n",
    "\n",
    "precision_svm = accuracy_score(y_prueba, svm_predicciones)\n",
    "print(f\"Precisión del modelo SVM: {precision_svm}\")\n",
    "\n",
    "precision_rf = accuracy_score(y_prueba, rf_predicciones)\n",
    "print(f\"Precisión del modelo RandomForest: {precision_rf}\")"
   ]
  },
  {
   "cell_type": "markdown",
   "id": "f18d80ce",
   "metadata": {},
   "source": [
    "En este caso, tanto el modelo SVM como el modelo RandomForest muestran una precisión similar, aproximadamente del 49.62%, mientras que el modelo KNN presenta una precisión más baja, alrededor del 19.85%. \n",
    "\n",
    "En los tres modelos la precisión es relativamente baja. Si prestamos atención en las listas de predicciones vs el valor real, podemos darnos cuenta del mal comportamiento que tienen. \n",
    "\n",
    "Existen calificaciones cuyo valor real es superbajo; sin embargo, los tres modelos lo clasificas en las clases de 9 o 10.  Por otro lado, aceitan positivamente cuando la calificación es alta. "
   ]
  },
  {
   "cell_type": "markdown",
   "id": "229c8597",
   "metadata": {},
   "source": [
    "### Paso 5. Debido a que este es un problema de clasificación, pero hay varias clases que son originalmente numéricas, se puede aplicar también una métrica de evaluación para regresión. Aplique el RMSE a las predicciones y las etiquetas reales, analice el resultado."
   ]
  },
  {
   "cell_type": "code",
   "execution_count": 28,
   "id": "11250611",
   "metadata": {},
   "outputs": [
    {
     "name": "stdout",
     "output_type": "stream",
     "text": [
      "RMSE of KNeighborsClassifier: 2.29003816762086\n",
      "RMSE of SVC: 2.6787259133931505\n",
      "RMSE of RandomForestClassifier: 2.6787259133931505\n"
     ]
    }
   ],
   "source": [
    "for model in [knn_model, svm_model, rf_model]:\n",
    "    y_pred = model.predict(x_prueba)\n",
    "    print(f\"RMSE of {model.__class__.__name__}: {np.sqrt(mean_squared_error(y_prueba, y_pred))}\")\n"
   ]
  },
  {
   "cell_type": "markdown",
   "id": "2fecee6e",
   "metadata": {},
   "source": [
    "En términos de RMSE, el modelo KNN tiene un rendimiento ligeramente mejor que los modelos SVM y RandomForest.\n",
    "Independientemente de los valores de estas métricas, considero que los modelos no tienen un desempeño aceptable."
   ]
  },
  {
   "cell_type": "markdown",
   "id": "bcd7bd4c",
   "metadata": {},
   "source": [
    "### Paso 6. Utilice el modelo que se comportó mejor para predecir el \"Rating\" de las filas que tienen ese dato nulo, revise manualmente si la calificación predicha es consistente con el comentario en la reseña.\n"
   ]
  },
  {
   "cell_type": "code",
   "execution_count": 29,
   "id": "cdd78187",
   "metadata": {},
   "outputs": [],
   "source": [
    "filas_con_nulos = df_nuevo[df_nuevo['Rating'].isnull()]\n",
    "\n",
    "X_prediccion = filas_con_nulos[['ReviewSentiment', 'TitleSentiment']]\n",
    "\n",
    "predicciones = svm_model.predict(X_prediccion)\n",
    "\n",
    "\n",
    "df_predicciones = pd.DataFrame({\n",
    "    'Rating_Predicho': predicciones,\n",
    "    'Rating_Real': filas_con_nulos['Rating'],\n",
    "    'Review': filas_con_nulos['Review'],\n",
    "    'Title': filas_con_nulos['Title'],    \n",
    "})\n",
    "\n"
   ]
  },
  {
   "cell_type": "code",
   "execution_count": 30,
   "id": "625c49f9",
   "metadata": {},
   "outputs": [
    {
     "data": {
      "text/html": [
       "<div>\n",
       "<style scoped>\n",
       "    .dataframe tbody tr th:only-of-type {\n",
       "        vertical-align: middle;\n",
       "    }\n",
       "\n",
       "    .dataframe tbody tr th {\n",
       "        vertical-align: top;\n",
       "    }\n",
       "\n",
       "    .dataframe thead th {\n",
       "        text-align: right;\n",
       "    }\n",
       "</style>\n",
       "<table border=\"1\" class=\"dataframe\">\n",
       "  <thead>\n",
       "    <tr style=\"text-align: right;\">\n",
       "      <th></th>\n",
       "      <th>Rating_Predicho</th>\n",
       "      <th>Rating_Real</th>\n",
       "      <th>Review</th>\n",
       "      <th>Title</th>\n",
       "    </tr>\n",
       "  </thead>\n",
       "  <tbody>\n",
       "    <tr>\n",
       "      <th>143</th>\n",
       "      <td>10.0</td>\n",
       "      <td>NaN</td>\n",
       "      <td>I admit, when I write reviews it's usually whe...</td>\n",
       "      <td>I didn't expect much, but I absolutely love it.</td>\n",
       "    </tr>\n",
       "    <tr>\n",
       "      <th>145</th>\n",
       "      <td>10.0</td>\n",
       "      <td>NaN</td>\n",
       "      <td>Fun fact: Eiichiro Oda, the creator of the man...</td>\n",
       "      <td>Thank you for heading this, Oda!</td>\n",
       "    </tr>\n",
       "    <tr>\n",
       "      <th>447</th>\n",
       "      <td>10.0</td>\n",
       "      <td>NaN</td>\n",
       "      <td>Just because there are many scenes in the mang...</td>\n",
       "      <td>DIFFERENT MEDIA MEANS DIFFERENT STORYTELLING A...</td>\n",
       "    </tr>\n",
       "    <tr>\n",
       "      <th>500</th>\n",
       "      <td>10.0</td>\n",
       "      <td>NaN</td>\n",
       "      <td>I like the characters so far except Sanji's ha...</td>\n",
       "      <td>I'm not sure about rating yet!</td>\n",
       "    </tr>\n",
       "    <tr>\n",
       "      <th>520</th>\n",
       "      <td>10.0</td>\n",
       "      <td>NaN</td>\n",
       "      <td>One Piece somehow managed to pull it off: a le...</td>\n",
       "      <td>Great adaptation!</td>\n",
       "    </tr>\n",
       "    <tr>\n",
       "      <th>540</th>\n",
       "      <td>10.0</td>\n",
       "      <td>NaN</td>\n",
       "      <td>As a life long fan of One Piece I don't know w...</td>\n",
       "      <td>My disappointment is immeasurable</td>\n",
       "    </tr>\n",
       "    <tr>\n",
       "      <th>569</th>\n",
       "      <td>10.0</td>\n",
       "      <td>NaN</td>\n",
       "      <td>If you browse there are series with more actio...</td>\n",
       "      <td>A must watch</td>\n",
       "    </tr>\n",
       "    <tr>\n",
       "      <th>782</th>\n",
       "      <td>10.0</td>\n",
       "      <td>NaN</td>\n",
       "      <td>Everything went so right with casting and thei...</td>\n",
       "      <td>Emily Rudd's hair as Nami</td>\n",
       "    </tr>\n",
       "  </tbody>\n",
       "</table>\n",
       "</div>"
      ],
      "text/plain": [
       "     Rating_Predicho  Rating_Real  \\\n",
       "143             10.0          NaN   \n",
       "145             10.0          NaN   \n",
       "447             10.0          NaN   \n",
       "500             10.0          NaN   \n",
       "520             10.0          NaN   \n",
       "540             10.0          NaN   \n",
       "569             10.0          NaN   \n",
       "782             10.0          NaN   \n",
       "\n",
       "                                                Review  \\\n",
       "143  I admit, when I write reviews it's usually whe...   \n",
       "145  Fun fact: Eiichiro Oda, the creator of the man...   \n",
       "447  Just because there are many scenes in the mang...   \n",
       "500  I like the characters so far except Sanji's ha...   \n",
       "520  One Piece somehow managed to pull it off: a le...   \n",
       "540  As a life long fan of One Piece I don't know w...   \n",
       "569  If you browse there are series with more actio...   \n",
       "782  Everything went so right with casting and thei...   \n",
       "\n",
       "                                                 Title  \n",
       "143    I didn't expect much, but I absolutely love it.  \n",
       "145                   Thank you for heading this, Oda!  \n",
       "447  DIFFERENT MEDIA MEANS DIFFERENT STORYTELLING A...  \n",
       "500                     I'm not sure about rating yet!  \n",
       "520                                  Great adaptation!  \n",
       "540                  My disappointment is immeasurable  \n",
       "569                                       A must watch  \n",
       "782                          Emily Rudd's hair as Nami  "
      ]
     },
     "execution_count": 30,
     "metadata": {},
     "output_type": "execute_result"
    }
   ],
   "source": [
    "df_predicciones"
   ]
  },
  {
   "cell_type": "code",
   "execution_count": 31,
   "id": "254c2bdb",
   "metadata": {
    "scrolled": true
   },
   "outputs": [
    {
     "data": {
      "text/plain": [
       "143    I admit, when I write reviews it's usually whe...\n",
       "145    Fun fact: Eiichiro Oda, the creator of the man...\n",
       "447    Just because there are many scenes in the mang...\n",
       "500    I like the characters so far except Sanji's ha...\n",
       "520    One Piece somehow managed to pull it off: a le...\n",
       "540    As a life long fan of One Piece I don't know w...\n",
       "569    If you browse there are series with more actio...\n",
       "782    Everything went so right with casting and thei...\n",
       "Name: Review, dtype: object"
      ]
     },
     "execution_count": 31,
     "metadata": {},
     "output_type": "execute_result"
    }
   ],
   "source": [
    "#  pd.set_option('display.max_colwidth', None) # Use para poder visualizar mejor el contenido de la columna\n",
    "df_predicciones['Review']"
   ]
  },
  {
   "cell_type": "markdown",
   "id": "fcfec7fb",
   "metadata": {},
   "source": [
    "### Paso 7. Escriba sus conclusiones al respecto."
   ]
  },
  {
   "cell_type": "markdown",
   "id": "de096d78",
   "metadata": {},
   "source": [
    "Podemos observar que el modelo esta clasificando positivamnete las reseñas, sin embargo, no es consistente, si bien la mayoria de las reseñas son positivas, hay un para como la del registro 500 y 450 cuyas reseñas expresan comentarios negativos, exiten otras que expresan comentarios neutros o con alguna queja, por lo que tal vez el valor 10 no seria la mejor clasificacion.\n",
    "\n",
    "Debemos de tomar en cuenta que la clase SentimentIntensityAnalyzer se basa en un modelo preentrenado que asigna puntajes de intensidad de sentimiento a las palabras y calcula el sentimiento general del texto basándose en estos puntajes.\n",
    "Debido a la capacidad como seres humanos de expresar sentimientos de formas  tan variados, podemos estar obteniendo puntajes desproporcionados o sesgados y quizá esto sea lo que provoque que el modelo se inclinen a predecir siempre una crítica como buena, cuando no lo es.  \n",
    "Es claro que el modelo se equivoca al clasificar una reseña en un puntaje alto, y no al revés, clasificando bajo. "
   ]
  },
  {
   "cell_type": "markdown",
   "id": "d36c77cc",
   "metadata": {},
   "source": [
    "## ETAPA 4: PRESENTACIÓN DEL PROYECTO.\n",
    "### Al igual que en los proyectos anteriores, suba su trabajo terminado a un repositorio nuevo de su GitHub.\n",
    "### Escriba un archivo \"README\" y describa el proceso seguido en este trabajo.\n",
    "### Al entregar este trabajo, debe subir este archivo, el archivo de instrucciones y el enlace al repositorio público de GitHub con este trabajo."
   ]
  }
 ],
 "metadata": {
  "kernelspec": {
   "display_name": "Python 3 (ipykernel)",
   "language": "python",
   "name": "python3"
  },
  "language_info": {
   "codemirror_mode": {
    "name": "ipython",
    "version": 3
   },
   "file_extension": ".py",
   "mimetype": "text/x-python",
   "name": "python",
   "nbconvert_exporter": "python",
   "pygments_lexer": "ipython3",
   "version": "3.11.4"
  }
 },
 "nbformat": 4,
 "nbformat_minor": 5
}
